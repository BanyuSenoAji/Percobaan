{
  "nbformat": 4,
  "nbformat_minor": 0,
  "metadata": {
    "colab": {
      "provenance": [],
      "toc_visible": true
    },
    "kernelspec": {
      "name": "python3",
      "display_name": "Python 3"
    },
    "language_info": {
      "name": "python"
    }
  },
  "cells": [
    {
      "cell_type": "markdown",
      "source": [
        "**NIM : xxx**<br>\n",
        "**Nama: xxx** <br>\n",
        "**Kls :**<br>"
      ],
      "metadata": {
        "id": "fDKxpavt6_6c"
      }
    },
    {
      "cell_type": "markdown",
      "source": [
        "Stuktur pengulangan dapat dituliskan dengan dua jenis yaitu:\n",
        "\n",
        "\n",
        "1.   FOR\n",
        "2.   WHILE\n",
        "\n",
        "\n",
        "Pada struktur pengulangan perlu diperhatikan variabel kendali untuk menentukan awal pengulangan dan mengakhiri pengulangan. <br>\n",
        "Variable kendali sering disebut sebagai **counter**, digunakan untuk mengendalikan pengulangan hingga kondisi tertentu (condition)"
      ],
      "metadata": {
        "id": "HhdkS8axKKWx"
      }
    },
    {
      "cell_type": "markdown",
      "source": [
        "#FOR"
      ],
      "metadata": {
        "id": "kBvtvv_9IGD-"
      }
    },
    {
      "cell_type": "markdown",
      "source": [
        "FOR, digunakan untuk pengulangan yang sudah diketahui secara pasti jumlah pengulangannya dan perubahana variabel counter. Misalnya: diulang sebanyak 10 x (variable counter akan bertambah 1 setiap pengulangan terjadi).\n",
        "\n",
        "Algoritma pengulangan:\n",
        "\n",
        "**Ascending** For (akhir > awal)\n",
        "\n",
        "```\n",
        "For i <-- awal to akhir do\n",
        "   statement 1\n",
        "   statement 2\n",
        "   ....\n",
        "EndFor\n",
        "```\n",
        "\n",
        "**Descending** For (akhir < awal)\n",
        "\n",
        "```\n",
        "For i <-- awal downto akhir do\n",
        "   statement 1\n",
        "   statement 2\n",
        "   ....\n",
        "EndFor\n",
        "```\n",
        "\n",
        "variable awal dan akhir adalah counter, oleh karena itu harus bernilai integer.\n",
        "\n",
        "For with STEP\n",
        "\n",
        "Ketika variable counter tidak bertambah 1, tetapi dengan rentang tertentu, misalnya 2, 3, dst\n",
        "\n",
        "```\n",
        "For i <-- awal to akhir step n do\n",
        "   statement 1\n",
        "   statement 2\n",
        "   ....\n",
        "EndFor\n",
        "```\n"
      ],
      "metadata": {
        "id": "sJjPVHhZKJZG"
      }
    },
    {
      "cell_type": "code",
      "source": [
        "#tanpa disebutkan nilai awal, for pada python selalu dimulai dari 0\n",
        "for x in range(6):\n",
        "  print(x)"
      ],
      "metadata": {
        "colab": {
          "base_uri": "https://localhost:8080/"
        },
        "id": "3wsgimwjVdzQ",
        "outputId": "5cc6bc6f-d50d-4e55-bc2f-d9acfcd3a350"
      },
      "execution_count": null,
      "outputs": [
        {
          "output_type": "stream",
          "name": "stdout",
          "text": [
            "0\n",
            "1\n",
            "2\n",
            "3\n",
            "4\n",
            "5\n"
          ]
        }
      ]
    },
    {
      "cell_type": "code",
      "source": [
        "for x in range(10):\n",
        "  if x%3==0:\n",
        "    print(x,'kelipatan 3')\n",
        "  else:\n",
        "    print(x)"
      ],
      "metadata": {
        "colab": {
          "base_uri": "https://localhost:8080/"
        },
        "id": "zoYvAsuUmC5Q",
        "outputId": "9c6a72d9-2bce-4988-e6e8-510daf9c1a82"
      },
      "execution_count": null,
      "outputs": [
        {
          "output_type": "stream",
          "name": "stdout",
          "text": [
            "0 kelipatan 3\n",
            "1\n",
            "2\n",
            "3 kelipatan 3\n",
            "4\n",
            "5\n",
            "6 kelipatan 3\n",
            "7\n",
            "8\n",
            "9 kelipatan 3\n"
          ]
        }
      ]
    },
    {
      "cell_type": "code",
      "source": [
        "#for dengan nilai awal 1 dan nilai akhir 4\n",
        "for x in range(1,5):\n",
        "  print(x)"
      ],
      "metadata": {
        "colab": {
          "base_uri": "https://localhost:8080/"
        },
        "id": "GSdTtqnHhH0C",
        "outputId": "301fd6a6-db90-4fa6-b08b-a5116b2c44c2"
      },
      "execution_count": null,
      "outputs": [
        {
          "output_type": "stream",
          "name": "stdout",
          "text": [
            "1\n",
            "2\n",
            "3\n",
            "4\n"
          ]
        }
      ]
    },
    {
      "cell_type": "code",
      "source": [
        "#for dengan step\n",
        "for x in range(0,6,2):\n",
        "  print(x)"
      ],
      "metadata": {
        "colab": {
          "base_uri": "https://localhost:8080/"
        },
        "id": "n3yvCUjUMOfS",
        "outputId": "2dc2df12-5b43-4699-e350-fa1e0277ae26"
      },
      "execution_count": null,
      "outputs": [
        {
          "output_type": "stream",
          "name": "stdout",
          "text": [
            "0\n",
            "2\n",
            "4\n"
          ]
        }
      ]
    },
    {
      "cell_type": "code",
      "source": [
        "#for dengan counter menurun\n",
        "print('Countdown')\n",
        "for i in range(10,0,-2):\n",
        "  print(i)\n"
      ],
      "metadata": {
        "colab": {
          "base_uri": "https://localhost:8080/"
        },
        "id": "ozV6fzoMw1pv",
        "outputId": "f61b30ec-9f55-4bde-8a33-144a28f9338b"
      },
      "execution_count": null,
      "outputs": [
        {
          "output_type": "stream",
          "name": "stdout",
          "text": [
            "Countdown\n",
            "10\n",
            "8\n",
            "6\n",
            "4\n",
            "2\n"
          ]
        }
      ]
    },
    {
      "cell_type": "code",
      "source": [
        "for i in range(1,6):\n",
        "  print('Apa Kabar')\n",
        "\n"
      ],
      "metadata": {
        "colab": {
          "base_uri": "https://localhost:8080/"
        },
        "id": "g-qJTkt8P9Dz",
        "outputId": "a5f1230d-5899-401f-a59f-9021fe042434"
      },
      "execution_count": null,
      "outputs": [
        {
          "output_type": "stream",
          "name": "stdout",
          "text": [
            "Apa Kabar\n",
            "Apa Kabar\n",
            "Apa Kabar\n",
            "Apa Kabar\n",
            "Apa Kabar\n"
          ]
        }
      ]
    },
    {
      "cell_type": "code",
      "source": [],
      "metadata": {
        "id": "0RWE9c5WnadO"
      },
      "execution_count": null,
      "outputs": []
    },
    {
      "cell_type": "code",
      "source": [],
      "metadata": {
        "id": "ETHqBGE1M7sW"
      },
      "execution_count": null,
      "outputs": []
    },
    {
      "cell_type": "code",
      "source": [
        "#cetak_bintang1\n",
        "for i in range(5):\n",
        "  print('***')\n"
      ],
      "metadata": {
        "colab": {
          "base_uri": "https://localhost:8080/"
        },
        "id": "db50NYqXwxn_",
        "outputId": "123c6dc6-3146-4242-8fba-ee354fbcaa73"
      },
      "execution_count": null,
      "outputs": [
        {
          "output_type": "stream",
          "name": "stdout",
          "text": [
            "***\n",
            "***\n",
            "***\n",
            "***\n",
            "***\n"
          ]
        }
      ]
    },
    {
      "cell_type": "code",
      "source": [
        "#cetak_bintang2\n",
        "for i in range(5):\n",
        "  for j in range(i):\n",
        "    print('*',end='')\n",
        "  print()\n",
        "\n"
      ],
      "metadata": {
        "colab": {
          "base_uri": "https://localhost:8080/"
        },
        "id": "rWYbDn8FxJ0h",
        "outputId": "44fc1dae-1fa9-4069-e142-68ab78c71e19"
      },
      "execution_count": null,
      "outputs": [
        {
          "output_type": "stream",
          "name": "stdout",
          "text": [
            "\n",
            "*\n",
            "**\n",
            "***\n",
            "****\n"
          ]
        }
      ]
    },
    {
      "cell_type": "code",
      "source": [
        "#cetak_bintang2\n",
        "for i in range(5):\n",
        "  for j in range(3):\n",
        "    print('*',end='')\n",
        "  print()"
      ],
      "metadata": {
        "colab": {
          "base_uri": "https://localhost:8080/"
        },
        "id": "HsDftrAynkWv",
        "outputId": "0cf87f3f-6785-4fa0-9271-399169bbc2b7"
      },
      "execution_count": null,
      "outputs": [
        {
          "output_type": "stream",
          "name": "stdout",
          "text": [
            "***\n",
            "***\n",
            "***\n",
            "***\n",
            "***\n"
          ]
        }
      ]
    },
    {
      "cell_type": "code",
      "source": [
        "for i in range(10):\n",
        "  print('*',end='')"
      ],
      "metadata": {
        "colab": {
          "base_uri": "https://localhost:8080/"
        },
        "id": "si5Qfr89ootx",
        "outputId": "48e70070-404c-49c2-e55c-c31fc4e309af"
      },
      "execution_count": null,
      "outputs": [
        {
          "output_type": "stream",
          "name": "stdout",
          "text": [
            "**********"
          ]
        }
      ]
    },
    {
      "cell_type": "markdown",
      "source": [
        "Buatlah program untuk mencetak tampilan yang memberi garis atas dan bawah dari text yang diisikan.<br>\n",
        "Contoh:\n",
        "\n",
        "\n",
        "```\n",
        "title : Kelas A Bisnis Kreatif  UI\n",
        "\n",
        "------------------------------\n",
        "| Kelas A Bisnis Kreatif  UI |\n",
        "------------------------------\n",
        "```\n",
        "\n",
        "Algoritma:<br>\n",
        "1. input title\n",
        "2. hitung panjang title (pjg)\n",
        "3. print '-' sebanyak pjg\n",
        "4. print title\n",
        "5. print '-' sebanyak pjg\n",
        "\n"
      ],
      "metadata": {
        "id": "82gm8YLdnt-G"
      }
    },
    {
      "cell_type": "code",
      "source": [
        "kata = 'Aminah pergi ke pasar'\n",
        "pjg = len(kata)\n",
        "print(pjg)\n",
        "print('|',kata,'|')"
      ],
      "metadata": {
        "colab": {
          "base_uri": "https://localhost:8080/"
        },
        "id": "8NtYOT2ToNAH",
        "outputId": "135b61f6-2fae-4695-d0e9-03d55e255108"
      },
      "execution_count": null,
      "outputs": [
        {
          "output_type": "stream",
          "name": "stdout",
          "text": [
            "21\n",
            "| Aminah pergi ke pasar |\n"
          ]
        }
      ]
    },
    {
      "cell_type": "code",
      "source": [
        "title = input('isikan judul: \\n')\n",
        "pjg = len(title)\n",
        "print()\n",
        "print()\n",
        "for i in range(0,pjg+4):\n",
        "  print('',end='-')\n",
        "print()\n",
        "print('|',title,'|')\n",
        "for i in range(0,pjg+4):\n",
        "  print('',end='-')\n",
        "print()"
      ],
      "metadata": {
        "colab": {
          "base_uri": "https://localhost:8080/"
        },
        "id": "gX7deH09prqe",
        "outputId": "2c538aa7-cb47-4da0-b315-2c8e4ddec0f1"
      },
      "execution_count": null,
      "outputs": [
        {
          "output_type": "stream",
          "name": "stdout",
          "text": [
            "isikan judul: \n",
            "Fakultas Kedokteran Gigi\n",
            "\n",
            "\n",
            "----------------------------\n",
            "| Fakultas Kedokteran Gigi |\n",
            "----------------------------\n"
          ]
        }
      ]
    },
    {
      "cell_type": "code",
      "source": [
        "arr1 = ['Dewa','Dewi','Deni','Dina','Dudi','Dilan']\n",
        "print(arr1)"
      ],
      "metadata": {
        "colab": {
          "base_uri": "https://localhost:8080/"
        },
        "id": "WHQRhdX3rpH3",
        "outputId": "8a8b5da8-2f6b-40da-fbba-30c4bd1acdc8"
      },
      "execution_count": null,
      "outputs": [
        {
          "output_type": "stream",
          "name": "stdout",
          "text": [
            "['Dewa', 'Dewi', 'Deni', 'Dina', 'Dudi', 'Dilan']\n"
          ]
        }
      ]
    },
    {
      "cell_type": "code",
      "source": [
        "for isi in arr1:\n",
        "  print(isi)"
      ],
      "metadata": {
        "colab": {
          "base_uri": "https://localhost:8080/"
        },
        "id": "X_OkHTK9rwEm",
        "outputId": "b34ed5f9-4bdb-45d1-9c15-82ee90f30f7f"
      },
      "execution_count": null,
      "outputs": [
        {
          "output_type": "stream",
          "name": "stdout",
          "text": [
            "Dewa\n",
            "Dewi\n",
            "Deni\n",
            "Dina\n",
            "Dudi\n",
            "Dilan\n"
          ]
        }
      ]
    },
    {
      "cell_type": "code",
      "source": [
        "#ingin tau apakah di arr1 ada yg bernama 'Dina'\n",
        "#status ditampilkan 1x, melaporkan data ada/tdk ada\n",
        "status= 'Tidak ada'\n",
        "for isi in arr1:\n",
        "  if isi == 'Deni':\n",
        "    status = 'Ada'\n",
        "\n",
        "print(status)\n"
      ],
      "metadata": {
        "colab": {
          "base_uri": "https://localhost:8080/"
        },
        "id": "ivbZQcOPGo29",
        "outputId": "1465d8a5-d692-4968-97f8-1c73cac9531e"
      },
      "execution_count": null,
      "outputs": [
        {
          "output_type": "stream",
          "name": "stdout",
          "text": [
            "Ada\n"
          ]
        }
      ]
    },
    {
      "cell_type": "code",
      "source": [],
      "metadata": {
        "id": "S9gR6DkvntJO"
      },
      "execution_count": null,
      "outputs": []
    },
    {
      "cell_type": "code",
      "source": [
        "#FOR counter from Array\n",
        "\n",
        "#array bilangan\n",
        "\n",
        "bil = [3.5,4.5,6.5,7.5,10.5]\n",
        "for i in bil:\n",
        "  print(i)\n",
        "\n",
        "\n",
        "#array string\n",
        "siswa = ['Jodi','Ahmad','Wiwin','Joko','Kenny']\n",
        "for nama in siswa:\n",
        "  print(nama)\n",
        "\n",
        "\n",
        "\n"
      ],
      "metadata": {
        "colab": {
          "base_uri": "https://localhost:8080/"
        },
        "id": "hackaz1VSjzc",
        "outputId": "b11b6be7-df6b-40f1-bf61-fa80b2a5c8a3"
      },
      "execution_count": null,
      "outputs": [
        {
          "output_type": "stream",
          "name": "stdout",
          "text": [
            "3.5\n",
            "4.5\n",
            "6.5\n",
            "7.5\n",
            "10.5\n",
            "Jodi\n",
            "Ahmad\n",
            "Wiwin\n",
            "Joko\n",
            "Kenny\n"
          ]
        }
      ]
    },
    {
      "cell_type": "code",
      "source": [
        "#entry data ke array\n",
        "\n",
        "#1. buat array kosong\n",
        "mhs = []\n",
        "nilai=[]\n",
        "#2. isikan data ke array kosong\n",
        "\n",
        "n = int(input('Jml data yang akan diisikan:'))\n",
        "\n",
        "for i in range(0,n):\n",
        "  nama = input('Nama: ')\n",
        "  nilai_akhir = int(input('Nilai:'))\n",
        "  mhs.append(nama)\n",
        "  nilai.append(nilai_akhir)\n",
        "\n",
        "\n",
        "\n",
        "\n",
        "print()\n",
        "print('Daftar Nama mahasiswa')\n",
        "\n",
        "i=1\n",
        "for nama in mhs:\n",
        "  print(i,'.',nama,nilai[i-1])\n",
        "  i = i + 1\n",
        "\n"
      ],
      "metadata": {
        "colab": {
          "base_uri": "https://localhost:8080/"
        },
        "id": "tV-lilmbFG6Z",
        "outputId": "15555fb2-e578-4432-cea1-0a1c7739f75e"
      },
      "execution_count": null,
      "outputs": [
        {
          "output_type": "stream",
          "name": "stdout",
          "text": [
            "Jml data yang akan diisikan:3\n",
            "Nama: Ratna\n",
            "Nilai:56\n",
            "Nama: Diana\n",
            "Nilai:70\n",
            "Nama: Deni\n",
            "Nilai:85\n",
            "\n",
            "Daftar Nama mahasiswa\n",
            "1 . Ratna 56\n",
            "2 . Diana 70\n",
            "3 . Deni 85\n"
          ]
        }
      ]
    },
    {
      "cell_type": "code",
      "source": [
        "print(mhs[1],mhs[2])"
      ],
      "metadata": {
        "colab": {
          "base_uri": "https://localhost:8080/"
        },
        "id": "QkB3vAttGiux",
        "outputId": "70a5bcea-9788-4673-bc7d-02abc20e6a93"
      },
      "execution_count": null,
      "outputs": [
        {
          "output_type": "stream",
          "name": "stdout",
          "text": [
            "Diana Dewi\n"
          ]
        }
      ]
    },
    {
      "cell_type": "code",
      "source": [
        "print(mhs)\n"
      ],
      "metadata": {
        "colab": {
          "base_uri": "https://localhost:8080/"
        },
        "id": "N0gX2I8uGyHR",
        "outputId": "988fe5a4-8706-4564-8275-489abbb20431"
      },
      "execution_count": null,
      "outputs": [
        {
          "output_type": "stream",
          "name": "stdout",
          "text": [
            "['Eka', 'Diana', 'Dewi', 'Dudung']\n"
          ]
        }
      ]
    },
    {
      "cell_type": "markdown",
      "source": [
        "Menjumlahkan n bilangan"
      ],
      "metadata": {
        "id": "xrjaGyaZHHFY"
      }
    },
    {
      "cell_type": "code",
      "source": [
        "jml = 0\n",
        "n = int(input('banyaknya bilangan:'))\n",
        "for i in range(1,n+1):\n",
        "  print('bilangan ke', i)\n",
        "  bil = int(input(' adalah :'))\n",
        "  jml = jml + bil\n",
        "\n",
        "print('Total jumlah',n,'bilangan adalah:', jml)\n",
        "rata = jml/n\n",
        "print('Rata-rata dari',n,'bilangan adalah:', rata)\n",
        "#hitunglah rata2 bil yg diisikan, tampilkan hasilnya\n",
        "\n",
        "#Rata-rata n bilangan adalah =...\n",
        "\n"
      ],
      "metadata": {
        "colab": {
          "base_uri": "https://localhost:8080/"
        },
        "id": "Jutp_Lc7ziL9",
        "outputId": "214b2cc5-4a80-4d33-bc00-1f755586b24d"
      },
      "execution_count": null,
      "outputs": [
        {
          "output_type": "stream",
          "name": "stdout",
          "text": [
            "banyaknya bilangan:4\n",
            "bilangan ke 1\n",
            " adalah :56\n",
            "bilangan ke 2\n",
            " adalah :75\n",
            "bilangan ke 3\n",
            " adalah :77\n",
            "bilangan ke 4\n",
            " adalah :82\n",
            "Total jumlah 4 bilangan adalah: 290\n",
            "Rata-rata dari 4 bilangan adalah: 72.5\n"
          ]
        }
      ]
    },
    {
      "cell_type": "markdown",
      "source": [
        "Latihan:<br>\n",
        "Buatlah program yang akan menerima sebanyak n data nama mhsw dan nilainya, serta menampilkan daftar mahasiswa, nilainya serta rata-rata di akhir baris data <br>\n",
        "\n",
        "Perkiraan output:\n",
        "\n",
        "```\n",
        "Daftar Nama mahasiswa\n",
        "1 . Hana 56\n",
        "2 . Hani 85\n",
        "3 . Heni 77\n",
        "\n",
        "Rata-rata nilai = ....\n",
        "```\n",
        "\n",
        "\n"
      ],
      "metadata": {
        "id": "66MpGwcnxE3W"
      }
    },
    {
      "cell_type": "code",
      "source": [
        "jml=0\n",
        "for i in range(2, 22, 2):\n",
        "  print(i)\n",
        "  jml = jml + i\n",
        "print('total = ', jml)\n"
      ],
      "metadata": {
        "colab": {
          "base_uri": "https://localhost:8080/"
        },
        "id": "3U3pfA4uwpRB",
        "outputId": "984dab1b-8901-45ea-ab73-5a83844a6b56"
      },
      "execution_count": null,
      "outputs": [
        {
          "output_type": "stream",
          "name": "stdout",
          "text": [
            "2\n",
            "4\n",
            "6\n",
            "8\n",
            "10\n",
            "12\n",
            "14\n",
            "16\n",
            "18\n",
            "20\n",
            "total =  110\n"
          ]
        }
      ]
    },
    {
      "cell_type": "markdown",
      "source": [
        "Multiple array,\n",
        "Untuk menghitung biaya kos2an\n",
        "masukan : array tipe kamar, tarif\n",
        "luarannya: perubahan tarif\n"
      ],
      "metadata": {
        "id": "Ti_Pbm2uOqn2"
      }
    },
    {
      "cell_type": "code",
      "source": [
        "#array tipe_kamar\n",
        "tipe_kamar = []\n",
        "tipe_kamar = ['1A', '1B', '2A', '2B']\n",
        "tarif_kamar= []\n",
        "tarif_kamar= [800000, 1000000, 700000, 950000]\n",
        "#perubahan tarif:\n",
        "#1a = 10%, 1b = 15%, 2A = 20%, 2b = 25%\n",
        "\n",
        "for x in tipe_kamar:\n",
        "  match x:\n",
        "    case '1A':\n",
        "      tarif_kamar = 800000 * 1.1\n",
        "      print ('tarif kamar tipe 1A yg baru: ', round(tarif_kamar))\n",
        "    case '1B':\n",
        "      tarif_kamar = 1000000 * 1.15\n",
        "      print ('tarif kamar tipe 1B yg baru: ', round(tarif_kamar))\n",
        "    case'2A':\n",
        "      tarif_kamar = 700000 * 1.2\n",
        "      print ('tarif kamar tipe 2A yg baru: ', round(tarif_kamar))\n",
        "    case '2B':\n",
        "      tarif_kamar = 950000 * 1.25\n",
        "      print ('tarif kamar tipe 2B yg baru: ', round(tarif_kamar))\n",
        "\n",
        "\n"
      ],
      "metadata": {
        "colab": {
          "base_uri": "https://localhost:8080/"
        },
        "id": "nNRzGtslPFZ5",
        "outputId": "db6a2e9c-5f44-43a2-b8cb-d6c47117a345"
      },
      "execution_count": null,
      "outputs": [
        {
          "output_type": "stream",
          "name": "stdout",
          "text": [
            "tarif kamar tipe 1A yg baru:  880000\n",
            "tarif kamar tipe 1B yg baru:  1150000\n",
            "tarif kamar tipe 2A yg baru:  840000\n",
            "tarif kamar tipe 2B yg baru:  1187500\n"
          ]
        }
      ]
    },
    {
      "cell_type": "markdown",
      "source": [
        "#WHILE"
      ],
      "metadata": {
        "id": "sXKYgq6VE2gR"
      }
    },
    {
      "cell_type": "markdown",
      "source": [
        "While digunakan untuk mengendalikan alur program dengan menyertakan variable kendali di dalam loop. Variable kendali harus berubah sehingga dapat memenuhi kondisi pada klausa WHILE."
      ],
      "metadata": {
        "id": "cvYEOSl8O1S_"
      }
    },
    {
      "cell_type": "markdown",
      "source": [
        "## WHILE(kondisi)\n",
        "\n",
        "\n",
        "\n",
        "```\n",
        "variable_kondisi=nilai_awal\n",
        "while(kondisi) do\n",
        "  statement 1\n",
        "  statement 2\n",
        "  variabel_kondisi=nilaiperubah\n",
        "EndWhile\n",
        "```\n",
        "\n"
      ],
      "metadata": {
        "id": "mUTYTuc3PFNX"
      }
    },
    {
      "cell_type": "code",
      "source": [
        "#mencetak karakter '***' sebanyak 5 kali\n",
        "#menggunakan for\n",
        "\n",
        "chr = '***'\n",
        "for i in range(0,5):\n",
        "  print(chr)\n",
        "\n"
      ],
      "metadata": {
        "colab": {
          "base_uri": "https://localhost:8080/"
        },
        "id": "Y4RT68kN4H1u",
        "outputId": "e90a75a2-f39d-415b-f3be-4d6911811dfd"
      },
      "execution_count": null,
      "outputs": [
        {
          "output_type": "stream",
          "name": "stdout",
          "text": [
            "***\n",
            "***\n",
            "***\n",
            "***\n",
            "***\n"
          ]
        }
      ]
    },
    {
      "cell_type": "code",
      "source": [
        "chr = '***'\n",
        "i = 1\n",
        "while i<=5:\n",
        "  print(round(i,1),chr)\n",
        "  i = i + 0.3"
      ],
      "metadata": {
        "colab": {
          "base_uri": "https://localhost:8080/"
        },
        "id": "wi4qfO1gPdkT",
        "outputId": "00b39316-1765-4049-fc73-19efbba01937"
      },
      "execution_count": null,
      "outputs": [
        {
          "output_type": "stream",
          "name": "stdout",
          "text": [
            "1 ***\n",
            "1.3 ***\n",
            "1.6 ***\n",
            "1.9 ***\n",
            "2.2 ***\n",
            "2.5 ***\n",
            "2.8 ***\n",
            "3.1 ***\n",
            "3.4 ***\n",
            "3.7 ***\n",
            "4.0 ***\n",
            "4.3 ***\n",
            "4.6 ***\n",
            "4.9 ***\n"
          ]
        }
      ]
    },
    {
      "cell_type": "code",
      "source": [
        "#mencetak karakter '***' sebanyak 5 kali\n",
        "#menggunakan while\n",
        "\n",
        "#harus ada nilai awal variabel kendali\n",
        "\n",
        "i = 0\n",
        "j = 1\n",
        "while i < 5:\n",
        "  if j<10:\n",
        "    no = '0'+ str(j)\n",
        "  else:\n",
        "    no = str(j)\n",
        "  print(no,'.',chr)\n",
        "  i = i + 0.5\n",
        "  j = j + 1\n",
        "\n",
        "\n"
      ],
      "metadata": {
        "colab": {
          "base_uri": "https://localhost:8080/"
        },
        "id": "unZMcE2D4aMl",
        "outputId": "b9d64e12-1447-42ff-8743-223054da81a0"
      },
      "execution_count": null,
      "outputs": [
        {
          "output_type": "stream",
          "name": "stdout",
          "text": [
            "01 . ***\n",
            "02 . ***\n",
            "03 . ***\n",
            "04 . ***\n",
            "05 . ***\n",
            "06 . ***\n",
            "07 . ***\n",
            "08 . ***\n",
            "09 . ***\n",
            "10 . ***\n"
          ]
        }
      ]
    },
    {
      "cell_type": "code",
      "source": [
        "#Contoh V 10. Menampilkan angka 1 sampai 5\n",
        "#i adalah variabel kondisi\n",
        "i = 1  #nilai awal i = 1\n",
        "while i <= 5:\n",
        "  print(i)\n",
        "  #print('pengulangan ke',i)\n",
        "  i += 1   #perubahan nilai variabel kondisi"
      ],
      "metadata": {
        "colab": {
          "base_uri": "https://localhost:8080/"
        },
        "id": "6aRqogc-E-3v",
        "outputId": "bb9d1a9a-7201-43a1-faeb-774267afb4ce"
      },
      "execution_count": null,
      "outputs": [
        {
          "output_type": "stream",
          "name": "stdout",
          "text": [
            "1\n",
            "2\n",
            "3\n",
            "4\n",
            "5\n"
          ]
        }
      ]
    },
    {
      "cell_type": "code",
      "source": [
        "a = 6\n",
        "b = 5\n",
        "c = 8\n",
        "a = a + 1   #identik dgn  a += 1\n",
        "b = b - 1   #identik dgn  b -= 1\n",
        "c = c - 3   #identik dgn  c -=3\n",
        "c = c * 3   #identik dgn  c *=3\n",
        "\n"
      ],
      "metadata": {
        "id": "Us_zK5mW7Iql"
      },
      "execution_count": null,
      "outputs": []
    },
    {
      "cell_type": "code",
      "source": [
        "#ekspresi incremental otomatis pada pyhton\n",
        "a = 5\n",
        "a +=2\n",
        "print(a)\n",
        "a +=1\n",
        "print(a)\n",
        "a -=3\n",
        "print(a)\n",
        "a *= 2\n",
        "print(a)"
      ],
      "metadata": {
        "colab": {
          "base_uri": "https://localhost:8080/"
        },
        "id": "HKaZdnmeQpA3",
        "outputId": "c3987a2b-31a1-4b64-ef74-45c932d9b99a"
      },
      "execution_count": null,
      "outputs": [
        {
          "output_type": "stream",
          "name": "stdout",
          "text": [
            "7\n",
            "8\n",
            "5\n",
            "10\n"
          ]
        }
      ]
    },
    {
      "cell_type": "code",
      "source": [
        "a +=1"
      ],
      "metadata": {
        "id": "jdGkEjH-QwOZ"
      },
      "execution_count": null,
      "outputs": []
    },
    {
      "cell_type": "code",
      "source": [
        "#Menjumlahkan Lima Bilangan Integer\n",
        "\n",
        "i = 1\n",
        "jml = 0\n",
        "while i < 6:\n",
        "  bil = int(input('bil:'))\n",
        "  jml = jml + bil\n",
        "  i += 1\n",
        "print('Jumlah bilangan :', jml)"
      ],
      "metadata": {
        "colab": {
          "base_uri": "https://localhost:8080/"
        },
        "id": "oKfXcrr2Fg_Z",
        "outputId": "03194dc8-893f-4c84-aacc-7fe77871bd0d"
      },
      "execution_count": null,
      "outputs": [
        {
          "output_type": "stream",
          "name": "stdout",
          "text": [
            "bil:6\n",
            "bil:5\n",
            "bil:12\n",
            "bil:10\n",
            "bil:26\n",
            "Jumlah bilangan : 59\n"
          ]
        }
      ]
    },
    {
      "cell_type": "markdown",
      "source": [
        "# Exit LOOP"
      ],
      "metadata": {
        "id": "MOzfAZ8fNbzX"
      }
    },
    {
      "cell_type": "markdown",
      "source": [
        "Loop dapat diakhiri secara mendadak, sebelum kondisi batas loop tercapai, dengan statement BREAK\n",
        "\n",
        "Contoh:\n",
        "\n",
        "\n",
        "```\n",
        "For i = 1 to 10 do\n",
        "  write(i)\n",
        "  if i > 5 then\n",
        "    break\n",
        "  EndIf\n",
        "EndFor\n",
        "```\n",
        "\n"
      ],
      "metadata": {
        "id": "iTlAM669Nlf6"
      }
    },
    {
      "cell_type": "code",
      "source": [
        "a = 3\n",
        "for i in range(5):\n",
        "  a *= 2  #awalnya: a = a * 2\n",
        "  if a>60:\n",
        "    break\n",
        "  else:\n",
        "    print(i,a)\n",
        "\n",
        "print('nilai akhir a:',a)"
      ],
      "metadata": {
        "colab": {
          "base_uri": "https://localhost:8080/"
        },
        "id": "kMF0v9xRR6Wj",
        "outputId": "8f83b7e3-fa10-4728-9d19-9d018dd302bd"
      },
      "execution_count": null,
      "outputs": [
        {
          "output_type": "stream",
          "name": "stdout",
          "text": [
            "0 6\n",
            "1 12\n",
            "2 24\n",
            "3 48\n",
            "nilai akhir a: 96\n"
          ]
        }
      ]
    },
    {
      "cell_type": "code",
      "source": [
        "for i in range(1,10):\n",
        "  print(i)\n",
        "  if i>=6:\n",
        "    break\n"
      ],
      "metadata": {
        "colab": {
          "base_uri": "https://localhost:8080/"
        },
        "id": "3QzYzmCYN-V2",
        "outputId": "b0f62365-dd00-4ccc-b0c0-f2d18e59cd20"
      },
      "execution_count": null,
      "outputs": [
        {
          "output_type": "stream",
          "name": "stdout",
          "text": [
            "1\n",
            "2\n",
            "3\n",
            "4\n",
            "5\n",
            "6\n"
          ]
        }
      ]
    },
    {
      "cell_type": "code",
      "source": [
        "#array string\n",
        "siswa = ['Jodi','Ahmad','Wiwin','Joko','Kenny']\n",
        "cari = input('Nama yg dicari:')\n",
        "for nama in siswa:\n",
        "  print(nama)\n",
        "  if nama == cari:\n",
        "    break\n",
        "\n"
      ],
      "metadata": {
        "colab": {
          "base_uri": "https://localhost:8080/"
        },
        "id": "gA-1Uw5JOw4B",
        "outputId": "498eaa43-164c-4e96-e5e4-4f5f8be80954"
      },
      "execution_count": null,
      "outputs": [
        {
          "output_type": "stream",
          "name": "stdout",
          "text": [
            "Nama yg dicari:Ahmad\n",
            "Jodi\n",
            "Ahmad\n"
          ]
        }
      ]
    },
    {
      "cell_type": "code",
      "source": [
        "#mengisikan data sebanyak n\n",
        "#proses pengisian akan berhenti jika pengguna memilih tdk meneruskan\n",
        "\n",
        "mhs=[]\n",
        "n = int(input('Banyaknya data: '))\n",
        "for i in range(n):\n",
        "  jwb = input('isikan data?(y/n)')\n",
        "  if jwb == 'n':\n",
        "   break\n",
        "  else:\n",
        "    nama = input('Nama: ')\n",
        "  mhs.append(nama)\n",
        "print(mhs)\n",
        "\n"
      ],
      "metadata": {
        "colab": {
          "base_uri": "https://localhost:8080/"
        },
        "id": "-q0QoExVMx6g",
        "outputId": "8517765c-14de-4519-a444-d0bf25093ffa"
      },
      "execution_count": null,
      "outputs": [
        {
          "output_type": "stream",
          "name": "stdout",
          "text": [
            "Banyaknya data: 10\n",
            "isikan data?(y/n)y\n",
            "Nama: Anita\n",
            "isikan data?(y/n)y\n",
            "Nama: Diana\n",
            "isikan data?(y/n)y\n",
            "Nama: Heni\n",
            "isikan data?(y/n)n\n",
            "['Anita', 'Diana', 'Heni']\n"
          ]
        }
      ]
    },
    {
      "cell_type": "code",
      "source": [
        "#mencari nama dgn struktur FOR\n",
        "siswa = ['Jodi','Ahmad','Wiwin','Joko','Kenny']\n",
        "cari = input('Nama yang dicari: ')\n",
        "status= 'Tdk ada'\n",
        "for nama in siswa:\n",
        "  if nama == cari:\n",
        "    status = 'ada'\n",
        "    break\n",
        "\n",
        "print(status)\n"
      ],
      "metadata": {
        "colab": {
          "base_uri": "https://localhost:8080/"
        },
        "id": "R4WDIWdGO9XY",
        "outputId": "ba22d3cf-9625-477c-fbbb-a207cc851bfe"
      },
      "execution_count": null,
      "outputs": [
        {
          "output_type": "stream",
          "name": "stdout",
          "text": [
            "Nama yang dicari: Diana\n",
            "Tdk ada\n"
          ]
        }
      ]
    },
    {
      "cell_type": "code",
      "source": [
        "i = 1\n",
        "while i<10:\n",
        "  print(i)\n",
        "  i = i+1\n",
        "  if i>=6:\n",
        "    break\n"
      ],
      "metadata": {
        "colab": {
          "base_uri": "https://localhost:8080/"
        },
        "id": "ULMvdAsVORB1",
        "outputId": "efbd0dd7-ea77-4411-9743-5b6c349d6bb8"
      },
      "execution_count": null,
      "outputs": [
        {
          "output_type": "stream",
          "name": "stdout",
          "text": [
            "1\n",
            "2\n",
            "3\n",
            "4\n",
            "5\n"
          ]
        }
      ]
    },
    {
      "cell_type": "code",
      "source": [
        "#mencari nama dgn struktur While\n",
        "siswa = ['Jodi','Ahmad','Wiwin','Joko','Kenny']\n",
        "cari = input('Nama yang dicari: ')\n",
        "status= 'Tdk ada'\n",
        "i = 0\n",
        "max = len(siswa)\n",
        "while (status == 'Tdk ada') and (i<max):\n",
        "  if nama == cari:\n",
        "    status = 'ada'\n",
        "    break\n",
        "  i = i + 1\n",
        "\n",
        "print(status)"
      ],
      "metadata": {
        "colab": {
          "base_uri": "https://localhost:8080/"
        },
        "id": "wpie1q9yPVyh",
        "outputId": "359f2f46-35ed-409c-cb50-14d3183c165d"
      },
      "execution_count": null,
      "outputs": [
        {
          "output_type": "stream",
          "name": "stdout",
          "text": [
            "Nama yang dicari: ab\n",
            "Tdk ada\n"
          ]
        }
      ]
    },
    {
      "cell_type": "code",
      "source": [
        "#mencari dan menjumlahkan bilangan genap dan ganjil antara a dan b, sebanyak n bilangan\n",
        "n = 10\n",
        "a = 100\n",
        "b = 150\n",
        "jml_genap = 0\n",
        "jml_ganjil = 0\n",
        "bil_genap = []\n",
        "bil_ganjil = []\n",
        "\n",
        "for j in range(a, b):\n",
        "  if j%2==0:\n",
        "    jml_genap = jml_genap + j\n",
        "    bil_genap.append(j)\n",
        "  else:\n",
        "    jml_ganjil = jml_ganjil + j\n",
        "    bil_ganjil.append(j)\n",
        "  if (len(bil_ganjil)==n) and (len(bil_genap)==n):\n",
        "    break\n",
        "\n",
        "print('himpunan',n,'bil genap')\n",
        "print(bil_genap)\n",
        "print('Jumlah bilangan genap=',jml_genap)\n",
        "print('himpunan',n,'bil ganjil')\n",
        "print(bil_ganjil)\n",
        "print('Jumlah bilangan ganjil=',jml_ganjil)"
      ],
      "metadata": {
        "colab": {
          "base_uri": "https://localhost:8080/"
        },
        "id": "sNjdH65FZrlk",
        "outputId": "d7c6a4ee-78a7-473e-d522-581cd0b0146b"
      },
      "execution_count": null,
      "outputs": [
        {
          "output_type": "stream",
          "name": "stdout",
          "text": [
            "himpunan 10 bil genap\n",
            "[100, 102, 104, 106, 108, 110, 112, 114, 116, 118]\n",
            "Jumlah bilangan genap= 1090\n",
            "himpunan 10 bil ganjil\n",
            "[101, 103, 105, 107, 109, 111, 113, 115, 117, 119]\n",
            "Jumlah bilangan ganjil= 1100\n"
          ]
        }
      ]
    },
    {
      "cell_type": "code",
      "source": [
        "#Memeriksa bilangan prima\n",
        "a = 21\n",
        "status = 'non prima'\n",
        "for i in range(2,a+1):\n",
        "  hasil = a%i\n",
        "  print(hasil)\n",
        "  if hasil==0:\n",
        "    if i==a:\n",
        "      status='Prima'\n",
        "    else:\n",
        "      status='Non prima'\n",
        "      break\n",
        "\n",
        "print(status)\n",
        "\n"
      ],
      "metadata": {
        "colab": {
          "base_uri": "https://localhost:8080/"
        },
        "id": "2ldVcnj7RAV2",
        "outputId": "9f166713-57f7-43cf-cec3-aaa080651816"
      },
      "execution_count": null,
      "outputs": [
        {
          "output_type": "stream",
          "name": "stdout",
          "text": [
            "1\n",
            "0\n",
            "Non prima\n"
          ]
        }
      ]
    },
    {
      "cell_type": "code",
      "source": [
        "#Menjumlahkan n bilangan prima pertama, dan menampilkan n bilangan prima dalam himpunan\n",
        "prima=[]  #utk menampung semua bilangan prima yg berhasil ditemukan\n",
        "n = 10\n",
        "k = 1\n",
        "totalprima = 0\n",
        "jml=0\n",
        "while k < 100:\n",
        "  status = 'non prima'\n",
        "  for i in range(2,k+1):\n",
        "    hasil = k%i\n",
        "    if hasil==0:\n",
        "      if i==k:\n",
        "        status='Prima'\n",
        "        totalprima = totalprima + k\n",
        "        prima.append(k)\n",
        "        jml = jml+1\n",
        "      else:\n",
        "        status='non prima'\n",
        "        break\n",
        "  if jml>=n:  #membatasi jumlah hingga n bilangan saja\n",
        "          break\n",
        "  k = k + 1\n",
        "\n",
        "print('Himpunan',n, 'bilangan prima pertama')\n",
        "print(prima)\n",
        "print('Total',n,'bilangan prima pertama:', totalprima)"
      ],
      "metadata": {
        "colab": {
          "base_uri": "https://localhost:8080/"
        },
        "id": "SLDwjiPPYCh9",
        "outputId": "23c1760d-900f-4f60-f67f-27a7f7cf4b01"
      },
      "execution_count": null,
      "outputs": [
        {
          "output_type": "stream",
          "name": "stdout",
          "text": [
            "Himpunan 10 bilangan prima pertama\n",
            "[2, 3, 5, 7, 11, 13, 17, 19, 23, 29]\n",
            "Total 10 bilangan prima pertama: 129\n"
          ]
        }
      ]
    },
    {
      "cell_type": "markdown",
      "source": [
        "##WHILE-TRUE\n",
        "\n",
        "While-true adalah bentuk while yang akan mengevaluasi kondisi di dalam loop. Loop akan berhenti jika variabel kendali pada loop memenuhi syarat tertentu"
      ],
      "metadata": {
        "id": "c1yRLUkwOxPz"
      }
    },
    {
      "cell_type": "code",
      "source": [
        "#menjumlah 10 bilangan pertama\n",
        "N = 10\n",
        "Sum = 0\n",
        "\n",
        "while True:\n",
        "    Sum += N\n",
        "    N -= 1\n",
        "    if N == 0:\n",
        "        break\n",
        "\n",
        "print(f\"Jumlah 10 bilangan pertama {Sum}\")"
      ],
      "metadata": {
        "colab": {
          "base_uri": "https://localhost:8080/"
        },
        "id": "yB3jEjOCOprj",
        "outputId": "4ec328b4-f5f7-4dba-cf1b-8c58e5109083"
      },
      "execution_count": null,
      "outputs": [
        {
          "output_type": "stream",
          "name": "stdout",
          "text": [
            "Jumlah 10 bilangan pertama 55\n"
          ]
        }
      ]
    },
    {
      "cell_type": "code",
      "source": [
        "#menerima sejumlah nilai dari keyboard, dan akan berhenti berdasarkan pilihan pengguna\n",
        "#menghitung berapa rata-rata nilai yang dientrikan melalui keyboard\n",
        "n = 0\n",
        "sum = 0\n",
        "bil = []\n",
        "while True:\n",
        "  a = int(input('bil='))\n",
        "  sum = sum + a\n",
        "  n = n + 1\n",
        "  bil.append(a)\n",
        "  cek = input('lanjut? (y/n) ')\n",
        "  if cek == 'n':\n",
        "    break\n",
        "print('Bilangan yang dientrikan')\n",
        "print(bil)\n",
        "print(\"Rata-rata bilangan yang dientrikan:\",sum/n)"
      ],
      "metadata": {
        "colab": {
          "base_uri": "https://localhost:8080/"
        },
        "id": "OIMwrmR9QVaG",
        "outputId": "efb2fa04-b865-489a-ec13-702f931215e0"
      },
      "execution_count": null,
      "outputs": [
        {
          "output_type": "stream",
          "name": "stdout",
          "text": [
            "bil=40\n",
            "lanjut? (y/n) y\n",
            "bil=45\n",
            "lanjut? (y/n) y\n",
            "bil=70\n",
            "lanjut? (y/n) n\n",
            "Bilangan yang dientrikan\n",
            "[40, 45, 70]\n",
            "Rata-rata bilangan yang dientrikan: 51.666666666666664\n"
          ]
        }
      ]
    },
    {
      "cell_type": "code",
      "source": [
        "import random\n",
        "for i in range(1,5):\n",
        "  r1 = random.randint(10,30)\n",
        "  print(r1)"
      ],
      "metadata": {
        "colab": {
          "base_uri": "https://localhost:8080/"
        },
        "id": "9QXkKpy1UctI",
        "outputId": "c716dd2c-eecb-45b5-9859-3247a1e5de4d"
      },
      "execution_count": null,
      "outputs": [
        {
          "output_type": "stream",
          "name": "stdout",
          "text": [
            "16\n",
            "22\n",
            "11\n",
            "14\n"
          ]
        }
      ]
    },
    {
      "cell_type": "code",
      "source": [
        "\n",
        "import random\n",
        "\n",
        "#menghasilkan n bilangan dan char secara random, tidak ada nilai yang berulang\n",
        "str = 'abcdefghijklmnopqrstuvwxyz'\n",
        "bil = []\n",
        "nama=[]\n",
        "n = 10\n",
        "while (len(bil)<=n):\n",
        "  r1 = random.randint(60,90)\n",
        "  r2 = random.choice(str)\n",
        "    #mencegah jgn sampai ada bilangan yang sama dicatat\n",
        "  cek1 = 0\n",
        "  cek2 = 0\n",
        "  for j in (bil):\n",
        "    if r1==j: cek1 = 1\n",
        "  if cek1 == 0:\n",
        "    bil.append(r1)\n",
        "  for j in (nama):\n",
        "    if r2==j:cek2 = 1\n",
        "  if cek2 ==0:\n",
        "    nama.append(r2)\n",
        "    if len(nama)==n:break\n",
        "\n",
        "for i in range(len(nama)):\n",
        "  print(nama[i], bil[i])\n",
        "\n",
        "print(len(bil), len(nama))\n",
        "\n",
        "#find_max_min\n",
        "max = 0\n",
        "min = 100\n",
        "idx = 1\n",
        "max_idx=0\n",
        "for i in (bil):\n",
        "  if i >= max:\n",
        "    max = i\n",
        "    max_idx = idx\n",
        "  if i <= min:\n",
        "    min = i\n",
        "    min_idx = idx\n",
        "  idx = idx + 1\n",
        "\n",
        "if max_idx==1:max_idx = 1\n",
        "if min_idx==1:min_idx = 1\n",
        "print('Menampilkan data dengan nilai maksimum:')\n",
        "print(max_idx,nama[max_idx-1],max)\n",
        "print('Menampilkan data dengan nilai minimum:')\n",
        "print(min_idx,nama[min_idx-1],min)\n"
      ],
      "metadata": {
        "colab": {
          "base_uri": "https://localhost:8080/"
        },
        "id": "CTeF3xFnj8sB",
        "outputId": "2ad26d8d-a58f-4f48-e902-8e0a9ac3eedb"
      },
      "execution_count": null,
      "outputs": [
        {
          "output_type": "stream",
          "name": "stdout",
          "text": [
            "a 61\n",
            "y 68\n",
            "w 73\n",
            "x 62\n",
            "m 66\n",
            "b 89\n",
            "r 87\n",
            "k 74\n",
            "e 82\n",
            "i 75\n",
            "11 10\n",
            "Menampilkan data dengan nilai maksimum:\n",
            "6 b 89\n",
            "Menampilkan data dengan nilai minimum:\n",
            "1 a 61\n"
          ]
        }
      ]
    },
    {
      "cell_type": "markdown",
      "source": [
        "#Tugas"
      ],
      "metadata": {
        "id": "qednlFcpFtgL"
      }
    },
    {
      "cell_type": "markdown",
      "source": [
        "##1.Membuat tampilan karakter bintang\n",
        "Buatlah program untuk menampilkan karakter bintang dengan format sebagai berikut:\n",
        "\n",
        "\n",
        "\n",
        "```\n",
        "*\n",
        "**\n",
        "***\n",
        "****\n",
        "*****\n",
        "```\n",
        "\n"
      ],
      "metadata": {
        "id": "XIFyYA4KFwGe"
      }
    },
    {
      "cell_type": "markdown",
      "source": [],
      "metadata": {
        "id": "WWYdZpnVj8bg"
      }
    },
    {
      "cell_type": "markdown",
      "source": [
        "## 2.Membuat tampilan karakter bintang simetris\n",
        "\n",
        "Buatlah program untuk menampilkan karakter bintang dalam bentuk simetris sebagai berikut:\n",
        "\n",
        "\n",
        "```\n",
        "*\n",
        "**\n",
        "***\n",
        "****\n",
        "*****\n",
        "****\n",
        "***\n",
        "**\n",
        "*\n",
        "```\n",
        "\n"
      ],
      "metadata": {
        "id": "blNFoXX0F-Mm"
      }
    },
    {
      "cell_type": "markdown",
      "source": [
        "##3.Mengolah entri data dan menyimpan pada array"
      ],
      "metadata": {
        "id": "KyRr-98KSIoH"
      }
    },
    {
      "cell_type": "markdown",
      "source": [
        "Buatlah program untuk menerima data dan menyimpan pada array, yaitu data:\n",
        "nama - nilai\n",
        "Entri data akan berhenti jika pengguna menekan kunci tertentu.\n",
        "Berdasarkan data yang dientrikan, lakukan perhitungan:\n",
        "a. rata-rata nilai yang dientrikan\n",
        "b. berapa nilai maksimum dan siapa yang mendapatkannya\n",
        "c. berapa nilai minimum dan siapa yang mendapatkannya\n",
        "\n",
        "contoh masukan:\n",
        "\n",
        "```\n",
        "Entry Data:\n",
        "-------------\n",
        "Data ke-1:\n",
        "Nama:\n",
        "Nilai:\n",
        "Lanjut? (y/n) y\n",
        "Data ke-2:\n",
        "Nama:\n",
        "Nilai:\n",
        "Lanjut? (y/n) y\n",
        "\n",
        "....\n",
        "```\n",
        "Contoh keluaran:\n",
        "\n",
        "\n",
        "\n",
        "```\n",
        "Total data yang dientrikan: n\n",
        "Rata-rata nilai: 12345.678\n",
        "Nilai maksimum diperoleh: nama -  nilai\n",
        "Nilai minimum diperoleh: nama - nilai\n",
        "```\n",
        "\n",
        "\n",
        "\n",
        "\n"
      ],
      "metadata": {
        "id": "fzAEWPG8SOZu"
      }
    },
    {
      "cell_type": "code",
      "source": [],
      "metadata": {
        "id": "N_NkzgOTSSwh"
      },
      "execution_count": null,
      "outputs": []
    },
    {
      "cell_type": "markdown",
      "source": [
        "##4.Membuat Histogram"
      ],
      "metadata": {
        "id": "2MK1BRzaOHCQ"
      }
    },
    {
      "cell_type": "markdown",
      "source": [
        "Pelajari tutorial tentang membuat histogram dengan menggabungkan dua tutorial berikut,\n",
        "dan melengkapinya dengan garis dan informasi lainnya:<br>\n",
        "a. [simple-histogram](https://www.w3schools.com/python/matplotlib_histograms.asp) <br>\n",
        "b. [beauty-histogram](https://builtin.com/articles/beautify-matplotlib-histogram) <br>\n",
        "Dikarenakan pada dua contoh tersebut, menggunakan data yang sudah disediakan sebelumnya, maka untuk tugas ini anda diminta membuat data sendiri dengan cara:<br>\n",
        "1. Buatlah array data nilai secara random sebanyak 50 item, isi nilai boleh berulang\n",
        "2. Berdasarkan data nilai tersebut, buatlah histogram dasar seperti pada tutorial (a). Setelah jadi, percantik histogram anda seperti pada tutorial (b)"
      ],
      "metadata": {
        "id": "F8joTQEnGBXe"
      }
    },
    {
      "cell_type": "code",
      "source": [],
      "metadata": {
        "id": "oTAAoP1BNqZO"
      },
      "execution_count": null,
      "outputs": []
    }
  ]
}